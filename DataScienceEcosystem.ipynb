{
 "cells": [
  {
   "cell_type": "markdown",
   "id": "c060cf3b-c006-42d0-be98-d28d3f6dda79",
   "metadata": {},
   "source": [
    "# Data Science Tools and Ecosystem"
   ]
  },
  {
   "cell_type": "markdown",
   "id": "5c1f47da-8879-411b-a52f-53ca22d88f8c",
   "metadata": {},
   "source": [
    "In this notebook, Data Science Tools and Ecosystem are summarized.\n"
   ]
  },
  {
   "cell_type": "markdown",
   "id": "596f1f45-e33b-45fb-8279-a29c006df8a7",
   "metadata": {},
   "source": [
    "Some of the popular languages that Data Scientists use are:\n",
    "1. R\n",
    "2. Python"
   ]
  },
  {
   "cell_type": "markdown",
   "id": "13d9f0dd-d824-4a33-a08c-6a385a28e6fa",
   "metadata": {},
   "source": [
    "Some of the commonly used libraries used by Data Scientists include:\n",
    "1. Numpy\n",
    "2. Pandas"
   ]
  },
  {
   "cell_type": "markdown",
   "id": "ed2029f1-f44e-4c49-b8d5-c14effe29b4f",
   "metadata": {
    "tags": []
   },
   "source": [
    "Data Science Tools\n",
    "\n",
    "|Tools|\n",
    "|------|\n",
    "|Numpy     |\n",
    "|Pandas     |"
   ]
  },
  {
   "cell_type": "markdown",
   "id": "a0f0d467-25e5-48a9-8719-4989574346ff",
   "metadata": {
    "tags": []
   },
   "source": [
    "### Below are a few examples of evaluating arithmetic expressions in Python"
   ]
  },
  {
   "cell_type": "code",
   "execution_count": null,
   "id": "a2beb9db-42ac-42e3-9bed-4d0793058159",
   "metadata": {
    "tags": []
   },
   "outputs": [],
   "source": [
    "a = 3*5+9"
   ]
  },
  {
   "cell_type": "code",
   "execution_count": null,
   "id": "2740c3f3-eec0-46b0-a418-d19c32f8124c",
   "metadata": {
    "tags": []
   },
   "outputs": [],
   "source": [
    "a"
   ]
  },
  {
   "cell_type": "code",
   "execution_count": null,
   "id": "8f3aebee-dfea-4cba-a3c1-d15ebc269fc6",
   "metadata": {
    "tags": []
   },
   "outputs": [],
   "source": [
    "(3*4)+5"
   ]
  },
  {
   "cell_type": "code",
   "execution_count": null,
   "id": "82fed613-a428-4244-b590-fb4ad1dbe502",
   "metadata": {
    "tags": []
   },
   "outputs": [],
   "source": [
    "200/60"
   ]
  },
  {
   "cell_type": "markdown",
   "id": "bc5ecf86-aac9-4be5-9bf3-c9d7d43b2430",
   "metadata": {},
   "source": [
    "*Objectives:*\n",
    "\n",
    "* Numpy\n",
    "* Pandas\n",
    "* Matplotlib\n",
    "* SciPy\n",
    "* Scikit Learn\n"
   ]
  },
  {
   "cell_type": "markdown",
   "id": "904ab0c8-a9e4-4398-aaed-11ac261e2bb2",
   "metadata": {},
   "source": [
    "## Author\n",
    "Name Arpit Kashyap"
   ]
  },
  {
   "cell_type": "code",
   "execution_count": null,
   "id": "c0bb634e-093e-4d45-82c2-69657b92c1d2",
   "metadata": {},
   "outputs": [],
   "source": []
  }
 ],
 "metadata": {
  "kernelspec": {
   "display_name": "Python",
   "language": "python",
   "name": "conda-env-python-py"
  },
  "language_info": {
   "name": ""
  }
 },
 "nbformat": 4,
 "nbformat_minor": 5
}
